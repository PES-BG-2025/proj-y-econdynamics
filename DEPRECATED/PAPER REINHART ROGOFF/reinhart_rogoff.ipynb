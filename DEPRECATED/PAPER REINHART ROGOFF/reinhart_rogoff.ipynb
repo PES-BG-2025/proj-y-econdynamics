{
  "cells": [
    {
      "cell_type": "markdown",
      "metadata": {
        "id": "9ZTGgd7_xdle"
      },
      "source": [
        "# Reinhart-Rogoff replication\n",
        "\n",
        "* Replication of Reinhart-Rogoff \"Growth in a Time of Debt.\"\n",
        "* Python port of R code by Thomas Herndon | Michael Ash | Robert Pollin\n",
        "* https://scholar.harvard.edu/files/rogoff/files/growth_in_time_debt_aer.pdf\n",
        "* Author: Vincent Arel-Bundock varel@umich.edu\n",
        "* Data: https://gist.github.com/vincentarelbundock/5409893/raw/a623f2f3bae027a0e51dd01ac5b70d44d909a7b9/RR-processed.csv"
      ]
    },
    {
      "cell_type": "markdown",
      "metadata": {},
      "source": [
        "**Autores:** Carmen M. Reinhart y Kenneth S. Rogoff  \n",
        "**Fuente:** American Economic Review, 2010\n",
        "\n",
        "## Introducción\n",
        "- El estudio analiza la relación entre el nivel de deuda pública y el crecimiento económico en países avanzados y emergentes.\n",
        "- Se utiliza una base de datos histórica que abarca más de 200 años y múltiples países.\n",
        "\n",
        "## Metodología\n",
        "- Se recopilan datos sobre deuda pública y tasas de crecimiento del PIB.\n",
        "- Los países se agrupan por rangos de deuda respecto al PIB:  \n",
        "  - Menos de 30%\n",
        "  - 30-60%\n",
        "  - 60-90%\n",
        "  - Más de 90%\n",
        "- Se compara el crecimiento medio en cada rango de deuda.\n",
        "\n",
        "## Resultados Principales\n",
        "- **Baja deuda (<60% del PIB):** No se observa una relación significativa entre deuda y crecimiento.\n",
        "- **Alta deuda (>90% del PIB):** El crecimiento medio es considerablemente menor; cae alrededor de 1 punto porcentual respecto a niveles más bajos de deuda.\n",
        "- El efecto es consistente en países avanzados y emergentes, aunque es más pronunciado en los primeros.\n",
        "\n",
        "## Implicaciones\n",
        "- Los resultados sugieren que altos niveles de deuda pueden afectar negativamente el crecimiento económico.\n",
        "- El umbral del 90% del PIB es relevante para las políticas fiscales.\n",
        "\n",
        "## Limitaciones\n",
        "- El análisis es correlacional; no se prueba causalidad directa.\n",
        "- Se reconoce que otros factores pueden incidir en la relación entre deuda y crecimiento (por ejemplo, recesiones, políticas monetarias).\n",
        "\n",
        "## Conclusión\n",
        "- Mantener la deuda pública por debajo de ciertos niveles puede ser importante para sostener el crecimiento económico.\n",
        "- El estudio invita a profundizar en los mecanismos causales y en casos específicos.\n",
        "\n",
        "## Referencia\n",
        "- Reinhart, C. M., & Rogoff, K. S. (2010). Growth in a Time of Debt. American Economic Review, 100(2), 573-578."
      ]
    },
    {
      "cell_type": "code",
      "execution_count": 24,
      "metadata": {
        "colab": {
          "base_uri": "https://localhost:8080/",
          "height": 321
        },
        "id": "6AGLK6b0xdlf",
        "outputId": "957a618f-f0e4-4061-a40b-a67ba78aafbd"
      },
      "outputs": [],
      "source": [
        "import statsmodels.api as sm\n",
        "import patsy\n",
        "import pandas as pd\n",
        "import numpy as np\n",
        "import matplotlib.pyplot as plt\n",
        "\n",
        "RR = pd.read_csv('RR-processed.csv')"
      ]
    },
    {
      "cell_type": "markdown",
      "metadata": {
        "id": "VRBwGH1Mxdlg"
      },
      "source": [
        "## Number of observations per country"
      ]
    },
    {
      "cell_type": "code",
      "execution_count": 25,
      "metadata": {
        "id": "ShB6Abnfxdlg"
      },
      "outputs": [
        {
          "data": {
            "text/plain": [
              "Country\n",
              "Australia      64\n",
              "Austria        62\n",
              "Belgium        63\n",
              "Canada         64\n",
              "Denmark        56\n",
              "Finland        64\n",
              "France         54\n",
              "Germany        59\n",
              "Greece         40\n",
              "Ireland        63\n",
              "Italy          59\n",
              "Japan          54\n",
              "Netherlands    53\n",
              "New Zealand    64\n",
              "Norway         64\n",
              "Portugal       58\n",
              "Spain          42\n",
              "Sweden         64\n",
              "UK             64\n",
              "US             64\n",
              "dtype: int64"
            ]
          },
          "execution_count": 25,
          "metadata": {},
          "output_type": "execute_result"
        }
      ],
      "source": [
        "RR.groupby('Country').size()"
      ]
    },
    {
      "cell_type": "markdown",
      "metadata": {
        "id": "yMjlEs7vxdlh"
      },
      "source": [
        "## Bins"
      ]
    },
    {
      "cell_type": "code",
      "execution_count": 66,
      "metadata": {
        "id": "cyAr_XA6xdlh"
      },
      "outputs": [],
      "source": [
        "bins = [\"0-30%\",\"30-60%\",\"60-90%\",\"Above 90%\"]\n",
        "RR['dgcat'] = np.digitize(RR.debtgdp, [0,30,60,90,np.inf]) - 1\n",
        "RR.dgcat = [bins[x] for x in RR.dgcat]\n",
        "\n",
        "bins = [\"0-30%\",\"30-60%\",\"60-90%\",\"90-120%\",\"Above 120%\"]\n",
        "RR['dgcat2'] = np.digitize(RR.debtgdp, [0,30,60,90,120,np.inf]) - 1\n",
        "RR.dgcat2 = [bins[x] for x in RR.dgcat2]"
      ]
    },
    {
      "cell_type": "markdown",
      "metadata": {
        "id": "-tYUULoNxdlh"
      },
      "source": [
        "## Regression analysis"
      ]
    },
    {
      "cell_type": "code",
      "execution_count": 47,
      "metadata": {
        "id": "-2rZqhjRxdli"
      },
      "outputs": [
        {
          "name": "stdout",
          "output_type": "stream",
          "text": [
            "                            OLS Regression Results                            \n",
            "==============================================================================\n",
            "Dep. Variable:                  dRGDP   R-squared:                       0.045\n",
            "Model:                            OLS   Adj. R-squared:                  0.042\n",
            "Method:                 Least Squares   F-statistic:                     18.36\n",
            "Date:                Thu, 25 Sep 2025   Prob (F-statistic):           1.22e-11\n",
            "Time:                        17:42:33   Log-Likelihood:                -2927.9\n",
            "No. Observations:                1175   AIC:                             5864.\n",
            "Df Residuals:                    1171   BIC:                             5884.\n",
            "Df Model:                           3                                         \n",
            "Covariance Type:            nonrobust                                         \n",
            "======================================================================================\n",
            "                         coef    std err          t      P>|t|      [0.025      0.975]\n",
            "--------------------------------------------------------------------------------------\n",
            "Intercept              4.1735      0.142     29.413      0.000       3.895       4.452\n",
            "dgcat[T.30-60%]       -1.0814      0.199     -5.429      0.000      -1.472      -0.691\n",
            "dgcat[T.60-90%]       -0.9869      0.251     -3.931      0.000      -1.479      -0.494\n",
            "dgcat[T.Above 90%]    -2.0056      0.313     -6.403      0.000      -2.620      -1.391\n",
            "==============================================================================\n",
            "Omnibus:                      208.322   Durbin-Watson:                   1.385\n",
            "Prob(Omnibus):                  0.000   Jarque-Bera (JB):             1757.480\n",
            "Skew:                           0.558   Prob(JB):                         0.00\n",
            "Kurtosis:                       8.887   Cond. No.                         4.57\n",
            "==============================================================================\n",
            "\n",
            "Notes:\n",
            "[1] Standard Errors assume that the covariance matrix of the errors is correctly specified.\n"
          ]
        }
      ],
      "source": [
        "y,X = patsy.dmatrices('dRGDP ~ dgcat', data=RR[['dRGDP', 'dgcat']].dropna())\n",
        "print (sm.OLS(y,X).fit().summary())"
      ]
    },
    {
      "cell_type": "code",
      "execution_count": 48,
      "metadata": {
        "id": "qQ6_JQudxdli"
      },
      "outputs": [
        {
          "name": "stdout",
          "output_type": "stream",
          "text": [
            "                            OLS Regression Results                            \n",
            "==============================================================================\n",
            "Dep. Variable:                  dRGDP   R-squared:                       0.046\n",
            "Model:                            OLS   Adj. R-squared:                  0.043\n",
            "Method:                 Least Squares   F-statistic:                     14.24\n",
            "Date:                Thu, 25 Sep 2025   Prob (F-statistic):           2.36e-11\n",
            "Time:                        17:42:40   Log-Likelihood:                -2926.9\n",
            "No. Observations:                1175   AIC:                             5864.\n",
            "Df Residuals:                    1170   BIC:                             5889.\n",
            "Df Model:                           4                                         \n",
            "Covariance Type:            nonrobust                                         \n",
            "========================================================================================\n",
            "                           coef    std err          t      P>|t|      [0.025      0.975]\n",
            "----------------------------------------------------------------------------------------\n",
            "Intercept                4.1735      0.142     29.423      0.000       3.895       4.452\n",
            "dgcat2[T.30-60%]        -1.0814      0.199     -5.431      0.000      -1.472      -0.691\n",
            "dgcat2[T.60-90%]        -0.9869      0.251     -3.933      0.000      -1.479      -0.495\n",
            "dgcat2[T.90-120%]       -1.7676      0.359     -4.929      0.000      -2.471      -1.064\n",
            "dgcat2[T.Above 120%]    -2.6120      0.545     -4.796      0.000      -3.680      -1.543\n",
            "==============================================================================\n",
            "Omnibus:                      210.356   Durbin-Watson:                   1.388\n",
            "Prob(Omnibus):                  0.000   Jarque-Bera (JB):             1756.317\n",
            "Skew:                           0.570   Prob(JB):                         0.00\n",
            "Kurtosis:                       8.880   Cond. No.                         7.10\n",
            "==============================================================================\n",
            "\n",
            "Notes:\n",
            "[1] Standard Errors assume that the covariance matrix of the errors is correctly specified.\n"
          ]
        }
      ],
      "source": [
        "y2,X2 = patsy.dmatrices('dRGDP ~ dgcat2', data=RR[['dRGDP', 'dgcat2']].dropna())\n",
        "print (sm.OLS(y2,X2).fit().summary())"
      ]
    },
    {
      "cell_type": "markdown",
      "metadata": {
        "id": "tOI49kWAxdli"
      },
      "source": [
        "## Table 3 Corrected"
      ]
    },
    {
      "cell_type": "code",
      "execution_count": 49,
      "metadata": {
        "id": "7KveDFE_xdlj"
      },
      "outputs": [
        {
          "data": {
            "text/plain": [
              "dgcat\n",
              "0-30%        4.173523\n",
              "30-60%       3.092145\n",
              "60-90%       3.186575\n",
              "Above 90%    2.167972\n",
              "Name: dRGDP, dtype: float64"
            ]
          },
          "execution_count": 49,
          "metadata": {},
          "output_type": "execute_result"
        }
      ],
      "source": [
        "## Country-Year average by debtgdp (\"correct weights\")\n",
        "RR.dRGDP.groupby(RR.dgcat).mean()"
      ]
    },
    {
      "cell_type": "code",
      "execution_count": 51,
      "metadata": {
        "id": "CyMr_Rvuxdlj"
      },
      "outputs": [
        {
          "data": {
            "text/html": [
              "<div>\n",
              "<style scoped>\n",
              "    .dataframe tbody tr th:only-of-type {\n",
              "        vertical-align: middle;\n",
              "    }\n",
              "\n",
              "    .dataframe tbody tr th {\n",
              "        vertical-align: top;\n",
              "    }\n",
              "\n",
              "    .dataframe thead th {\n",
              "        text-align: right;\n",
              "    }\n",
              "</style>\n",
              "<table border=\"1\" class=\"dataframe\">\n",
              "  <thead>\n",
              "    <tr style=\"text-align: right;\">\n",
              "      <th>dgcat</th>\n",
              "      <th>0-30%</th>\n",
              "      <th>30-60%</th>\n",
              "      <th>60-90%</th>\n",
              "      <th>Above 90%</th>\n",
              "    </tr>\n",
              "    <tr>\n",
              "      <th>Country</th>\n",
              "      <th></th>\n",
              "      <th></th>\n",
              "      <th></th>\n",
              "      <th></th>\n",
              "    </tr>\n",
              "  </thead>\n",
              "  <tbody>\n",
              "    <tr>\n",
              "      <th>Australia</th>\n",
              "      <td>3.205885</td>\n",
              "      <td>4.947205</td>\n",
              "      <td>4.042175</td>\n",
              "      <td>3.774250</td>\n",
              "    </tr>\n",
              "    <tr>\n",
              "      <th>Austria</th>\n",
              "      <td>5.207527</td>\n",
              "      <td>3.256526</td>\n",
              "      <td>-3.824000</td>\n",
              "      <td>NaN</td>\n",
              "    </tr>\n",
              "    <tr>\n",
              "      <th>Belgium</th>\n",
              "      <td>NaN</td>\n",
              "      <td>4.191655</td>\n",
              "      <td>3.079868</td>\n",
              "      <td>2.566828</td>\n",
              "    </tr>\n",
              "    <tr>\n",
              "      <th>Canada</th>\n",
              "      <td>2.515704</td>\n",
              "      <td>3.525446</td>\n",
              "      <td>4.523574</td>\n",
              "      <td>2.956640</td>\n",
              "    </tr>\n",
              "    <tr>\n",
              "      <th>Denmark</th>\n",
              "      <td>3.518584</td>\n",
              "      <td>1.700034</td>\n",
              "      <td>2.391147</td>\n",
              "      <td>NaN</td>\n",
              "    </tr>\n",
              "    <tr>\n",
              "      <th>Finland</th>\n",
              "      <td>3.817029</td>\n",
              "      <td>2.418535</td>\n",
              "      <td>5.488887</td>\n",
              "      <td>NaN</td>\n",
              "    </tr>\n",
              "    <tr>\n",
              "      <th>France</th>\n",
              "      <td>5.058476</td>\n",
              "      <td>2.616159</td>\n",
              "      <td>3.019631</td>\n",
              "      <td>NaN</td>\n",
              "    </tr>\n",
              "    <tr>\n",
              "      <th>Germany</th>\n",
              "      <td>3.873759</td>\n",
              "      <td>0.875803</td>\n",
              "      <td>NaN</td>\n",
              "      <td>NaN</td>\n",
              "    </tr>\n",
              "    <tr>\n",
              "      <th>Greece</th>\n",
              "      <td>4.001282</td>\n",
              "      <td>0.340200</td>\n",
              "      <td>2.696000</td>\n",
              "      <td>2.910632</td>\n",
              "    </tr>\n",
              "    <tr>\n",
              "      <th>Ireland</th>\n",
              "      <td>4.209251</td>\n",
              "      <td>4.452167</td>\n",
              "      <td>3.950139</td>\n",
              "      <td>2.428571</td>\n",
              "    </tr>\n",
              "    <tr>\n",
              "      <th>Italy</th>\n",
              "      <td>5.352632</td>\n",
              "      <td>2.054284</td>\n",
              "      <td>1.771529</td>\n",
              "      <td>1.028900</td>\n",
              "    </tr>\n",
              "    <tr>\n",
              "      <th>Japan</th>\n",
              "      <td>7.331001</td>\n",
              "      <td>3.957143</td>\n",
              "      <td>1.008411</td>\n",
              "      <td>0.687258</td>\n",
              "    </tr>\n",
              "    <tr>\n",
              "      <th>Netherlands</th>\n",
              "      <td>4.082614</td>\n",
              "      <td>2.620772</td>\n",
              "      <td>1.070436</td>\n",
              "      <td>NaN</td>\n",
              "    </tr>\n",
              "    <tr>\n",
              "      <th>New Zealand</th>\n",
              "      <td>2.465556</td>\n",
              "      <td>2.889572</td>\n",
              "      <td>3.883683</td>\n",
              "      <td>2.574727</td>\n",
              "    </tr>\n",
              "    <tr>\n",
              "      <th>Norway</th>\n",
              "      <td>3.400122</td>\n",
              "      <td>5.108289</td>\n",
              "      <td>10.201270</td>\n",
              "      <td>NaN</td>\n",
              "    </tr>\n",
              "    <tr>\n",
              "      <th>Portugal</th>\n",
              "      <td>4.451419</td>\n",
              "      <td>3.549482</td>\n",
              "      <td>1.893899</td>\n",
              "      <td>NaN</td>\n",
              "    </tr>\n",
              "    <tr>\n",
              "      <th>Spain</th>\n",
              "      <td>1.549332</td>\n",
              "      <td>3.398669</td>\n",
              "      <td>4.156250</td>\n",
              "      <td>NaN</td>\n",
              "    </tr>\n",
              "    <tr>\n",
              "      <th>Sweden</th>\n",
              "      <td>3.567385</td>\n",
              "      <td>2.932237</td>\n",
              "      <td>2.665824</td>\n",
              "      <td>NaN</td>\n",
              "    </tr>\n",
              "    <tr>\n",
              "      <th>UK</th>\n",
              "      <td>NaN</td>\n",
              "      <td>2.231213</td>\n",
              "      <td>2.522133</td>\n",
              "      <td>2.399096</td>\n",
              "    </tr>\n",
              "    <tr>\n",
              "      <th>US</th>\n",
              "      <td>NaN</td>\n",
              "      <td>3.370208</td>\n",
              "      <td>3.264068</td>\n",
              "      <td>-1.988893</td>\n",
              "    </tr>\n",
              "  </tbody>\n",
              "</table>\n",
              "</div>"
            ],
            "text/plain": [
              "dgcat           0-30%    30-60%     60-90%  Above 90%\n",
              "Country                                              \n",
              "Australia    3.205885  4.947205   4.042175   3.774250\n",
              "Austria      5.207527  3.256526  -3.824000        NaN\n",
              "Belgium           NaN  4.191655   3.079868   2.566828\n",
              "Canada       2.515704  3.525446   4.523574   2.956640\n",
              "Denmark      3.518584  1.700034   2.391147        NaN\n",
              "Finland      3.817029  2.418535   5.488887        NaN\n",
              "France       5.058476  2.616159   3.019631        NaN\n",
              "Germany      3.873759  0.875803        NaN        NaN\n",
              "Greece       4.001282  0.340200   2.696000   2.910632\n",
              "Ireland      4.209251  4.452167   3.950139   2.428571\n",
              "Italy        5.352632  2.054284   1.771529   1.028900\n",
              "Japan        7.331001  3.957143   1.008411   0.687258\n",
              "Netherlands  4.082614  2.620772   1.070436        NaN\n",
              "New Zealand  2.465556  2.889572   3.883683   2.574727\n",
              "Norway       3.400122  5.108289  10.201270        NaN\n",
              "Portugal     4.451419  3.549482   1.893899        NaN\n",
              "Spain        1.549332  3.398669   4.156250        NaN\n",
              "Sweden       3.567385  2.932237   2.665824        NaN\n",
              "UK                NaN  2.231213   2.522133   2.399096\n",
              "US                NaN  3.370208   3.264068  -1.988893"
            ]
          },
          "execution_count": 51,
          "metadata": {},
          "output_type": "execute_result"
        }
      ],
      "source": [
        "## Averaged Country averages by debtgdp (\"equal weights\")\n",
        "RR.dRGDP.groupby([RR.Country, RR.dgcat]).mean().unstack()"
      ]
    },
    {
      "cell_type": "code",
      "execution_count": 65,
      "metadata": {},
      "outputs": [
        {
          "data": {
            "image/png": "[encoded data removed]",
            "text/plain": [
              "<Figure size 700x500 with 2 Axes>"
            ]
          },
          "metadata": {},
          "output_type": "display_data"
        }
      ],
      "source": [
        "import pandas as pd\n",
        "import matplotlib.pyplot as plt\n",
        "\n",
        "# Paso 1: Calcular promedio por rango de deuda (promedio en todos los países y años)\n",
        "grouped = RR.groupby('dgcat').agg(\n",
        "    avg_gdp_growth=('dRGDP', 'mean'),\n",
        "    avg_inflation=('Infl', 'mean')\n",
        ").reset_index()\n",
        "\n",
        "# Paso 2: Graficar\n",
        "fig, ax1 = plt.subplots(figsize=(7,5))\n",
        "\n",
        "x = grouped['dgcat']  # Rango de deuda\n",
        "y1 = grouped['avg_gdp_growth']\n",
        "y2 = grouped['avg_inflation']\n",
        "\n",
        "# Gráfico de barras para GDP growth\n",
        "bars = ax1.bar(x, y1, color=['#f7fcb9', '#fee391', '#fc8d59', '#d73027'], width=0.6)\n",
        "ax1.set_ylabel('GDP Growth (%)', fontsize=12)\n",
        "ax1.set_xlabel('Debt/GDP (%)', fontsize=12)\n",
        "ax1.set_title('Average GDP Growth and Inflation by Debt/GDP Range', fontsize=14)\n",
        "\n",
        "# Línea secundaria para inflación\n",
        "ax2 = ax1.twinx()\n",
        "ax2.plot(x, y2, color='navy', marker='o', linewidth=2, label='Average Inflation')\n",
        "ax2.set_ylabel('Inflation (%)', fontsize=12, color='navy')\n",
        "ax2.tick_params(axis='y', labelcolor='navy')\n",
        "\n",
        "plt.tight_layout()\n",
        "plt.show()"
      ]
    },
    {
      "cell_type": "code",
      "execution_count": 52,
      "metadata": {},
      "outputs": [
        {
          "name": "stdout",
          "output_type": "stream",
          "text": [
            "        Country year_range     0-30%    30-60%     60-90%  Above 90%\n",
            "0     Australia  1946-2009  3.205885  4.947205   4.042175   3.774250\n",
            "1       Austria  1948-2009  5.207527  3.256526  -3.824000        NaN\n",
            "2       Belgium  1947-2009       NaN  4.191655   3.079868   2.566828\n",
            "3        Canada  1946-2009  2.515704  3.525446   4.523574   2.956640\n",
            "4       Denmark  1950-2009  3.518584  1.700034   2.391147        NaN\n",
            "5       Finland  1946-2009  3.817029  2.418535   5.488887        NaN\n",
            "6        France  1950-2009  5.058476  2.616159   3.019631        NaN\n",
            "7       Germany  1951-2009  3.873759  0.875803        NaN        NaN\n",
            "8        Greece  1970-2009  4.001282  0.340200   2.696000   2.910632\n",
            "9       Ireland  1947-2009  4.209251  4.452167   3.950139   2.428571\n",
            "10        Italy  1951-2009  5.352632  2.054284   1.771529   1.028900\n",
            "11        Japan  1956-2009  7.331001  3.957143   1.008411   0.687258\n",
            "12  Netherlands  1957-2009  4.082614  2.620772   1.070436        NaN\n",
            "13  New Zealand  1946-2009  2.465556  2.889572   3.883683   2.574727\n",
            "14       Norway  1946-2009  3.400122  5.108289  10.201270        NaN\n",
            "15     Portugal  1950-2009  4.451419  3.549482   1.893899        NaN\n",
            "16        Spain  1946-2009  1.549332  3.398669   4.156250        NaN\n",
            "17       Sweden  1946-2009  3.567385  2.932237   2.665824        NaN\n",
            "18           UK  1946-2009       NaN  2.231213   2.522133   2.399096\n",
            "19           US  1946-2009       NaN  3.370208   3.264068  -1.988893\n"
          ]
        }
      ],
      "source": [
        "# Paso 1: Calcular rango de año por país\n",
        "year_range = RR.groupby('Country').agg(\n",
        "    start_year=('Year', 'min'),\n",
        "    end_year=('Year', 'max')\n",
        ").reset_index()\n",
        "year_range['year_range'] = year_range['start_year'].astype(str) + '-' + year_range['end_year'].astype(str)\n",
        "\n",
        "# Paso 2: Agrupar y calcular la media como ya hacías\n",
        "grouped = RR.dRGDP.groupby([RR.Country, RR.dgcat]).mean().unstack()\n",
        "\n",
        "# Paso 3: Unir el rango de año a la tabla agrupada\n",
        "# Asegúrate de tener el índice Country en grouped\n",
        "grouped = grouped.reset_index()\n",
        "grouped = pd.merge(grouped, year_range[['Country', 'year_range']], on='Country', how='left')\n",
        "\n",
        "# Paso 4: Si quieres la columna 'year_range' justo después de 'Country'\n",
        "cols = grouped.columns.tolist()\n",
        "cols.insert(1, cols.pop(cols.index('year_range')))\n",
        "grouped = grouped[cols]\n",
        "\n",
        "print(grouped)"
      ]
    },
    {
      "cell_type": "code",
      "execution_count": 31,
      "metadata": {
        "id": "rcOxhcVzxdlj"
      },
      "outputs": [
        {
          "data": {
            "text/plain": [
              "dgcat2\n",
              "0-30%         4.173523\n",
              "30-60%        3.092145\n",
              "60-90%        3.186575\n",
              "90-120%       2.405934\n",
              "Above 120%    1.561553\n",
              "Name: dRGDP, dtype: float64"
            ]
          },
          "execution_count": 31,
          "metadata": {},
          "output_type": "execute_result"
        }
      ],
      "source": [
        "## Country-Year average by debtgdp (\"correct weights\") expanded categories\n",
        "RR.dRGDP.groupby(RR.dgcat2).mean()"
      ]
    },
    {
      "cell_type": "code",
      "execution_count": 32,
      "metadata": {
        "id": "--WmpSL0xdlk"
      },
      "outputs": [
        {
          "data": {
            "text/html": [
              "<div>\n",
              "<style scoped>\n",
              "    .dataframe tbody tr th:only-of-type {\n",
              "        vertical-align: middle;\n",
              "    }\n",
              "\n",
              "    .dataframe tbody tr th {\n",
              "        vertical-align: top;\n",
              "    }\n",
              "\n",
              "    .dataframe thead th {\n",
              "        text-align: right;\n",
              "    }\n",
              "</style>\n",
              "<table border=\"1\" class=\"dataframe\">\n",
              "  <thead>\n",
              "    <tr style=\"text-align: right;\">\n",
              "      <th>dgcat2</th>\n",
              "      <th>0-30%</th>\n",
              "      <th>30-60%</th>\n",
              "      <th>60-90%</th>\n",
              "      <th>90-120%</th>\n",
              "      <th>Above 120%</th>\n",
              "    </tr>\n",
              "    <tr>\n",
              "      <th>Country</th>\n",
              "      <th></th>\n",
              "      <th></th>\n",
              "      <th></th>\n",
              "      <th></th>\n",
              "      <th></th>\n",
              "    </tr>\n",
              "  </thead>\n",
              "  <tbody>\n",
              "    <tr>\n",
              "      <th>Australia</th>\n",
              "      <td>3.205885</td>\n",
              "      <td>4.947205</td>\n",
              "      <td>4.042175</td>\n",
              "      <td>6.920201</td>\n",
              "      <td>2.987763</td>\n",
              "    </tr>\n",
              "    <tr>\n",
              "      <th>Austria</th>\n",
              "      <td>5.207527</td>\n",
              "      <td>3.256526</td>\n",
              "      <td>-3.824000</td>\n",
              "      <td>NaN</td>\n",
              "      <td>NaN</td>\n",
              "    </tr>\n",
              "    <tr>\n",
              "      <th>Belgium</th>\n",
              "      <td>NaN</td>\n",
              "      <td>4.191655</td>\n",
              "      <td>3.079868</td>\n",
              "      <td>2.702629</td>\n",
              "      <td>-0.692378</td>\n",
              "    </tr>\n",
              "    <tr>\n",
              "      <th>Canada</th>\n",
              "      <td>2.515704</td>\n",
              "      <td>3.525446</td>\n",
              "      <td>4.523574</td>\n",
              "      <td>4.544839</td>\n",
              "      <td>0.574341</td>\n",
              "    </tr>\n",
              "    <tr>\n",
              "      <th>Denmark</th>\n",
              "      <td>3.518584</td>\n",
              "      <td>1.700034</td>\n",
              "      <td>2.391147</td>\n",
              "      <td>NaN</td>\n",
              "      <td>NaN</td>\n",
              "    </tr>\n",
              "    <tr>\n",
              "      <th>Finland</th>\n",
              "      <td>3.817029</td>\n",
              "      <td>2.418535</td>\n",
              "      <td>5.488887</td>\n",
              "      <td>NaN</td>\n",
              "      <td>NaN</td>\n",
              "    </tr>\n",
              "    <tr>\n",
              "      <th>France</th>\n",
              "      <td>5.058476</td>\n",
              "      <td>2.616159</td>\n",
              "      <td>3.019631</td>\n",
              "      <td>NaN</td>\n",
              "      <td>NaN</td>\n",
              "    </tr>\n",
              "    <tr>\n",
              "      <th>Germany</th>\n",
              "      <td>3.873759</td>\n",
              "      <td>0.875803</td>\n",
              "      <td>NaN</td>\n",
              "      <td>NaN</td>\n",
              "      <td>NaN</td>\n",
              "    </tr>\n",
              "    <tr>\n",
              "      <th>Greece</th>\n",
              "      <td>4.001282</td>\n",
              "      <td>0.340200</td>\n",
              "      <td>2.696000</td>\n",
              "      <td>2.910632</td>\n",
              "      <td>NaN</td>\n",
              "    </tr>\n",
              "    <tr>\n",
              "      <th>Ireland</th>\n",
              "      <td>4.209251</td>\n",
              "      <td>4.452167</td>\n",
              "      <td>3.950139</td>\n",
              "      <td>2.428571</td>\n",
              "      <td>NaN</td>\n",
              "    </tr>\n",
              "    <tr>\n",
              "      <th>Italy</th>\n",
              "      <td>5.352632</td>\n",
              "      <td>2.054284</td>\n",
              "      <td>1.771529</td>\n",
              "      <td>1.028900</td>\n",
              "      <td>NaN</td>\n",
              "    </tr>\n",
              "    <tr>\n",
              "      <th>Japan</th>\n",
              "      <td>7.331001</td>\n",
              "      <td>3.957143</td>\n",
              "      <td>1.008411</td>\n",
              "      <td>1.359564</td>\n",
              "      <td>0.537857</td>\n",
              "    </tr>\n",
              "    <tr>\n",
              "      <th>Netherlands</th>\n",
              "      <td>4.082614</td>\n",
              "      <td>2.620772</td>\n",
              "      <td>1.070436</td>\n",
              "      <td>NaN</td>\n",
              "      <td>NaN</td>\n",
              "    </tr>\n",
              "    <tr>\n",
              "      <th>New Zealand</th>\n",
              "      <td>2.465556</td>\n",
              "      <td>2.889572</td>\n",
              "      <td>3.883683</td>\n",
              "      <td>-2.256588</td>\n",
              "      <td>9.821699</td>\n",
              "    </tr>\n",
              "    <tr>\n",
              "      <th>Norway</th>\n",
              "      <td>3.400122</td>\n",
              "      <td>5.108289</td>\n",
              "      <td>10.201270</td>\n",
              "      <td>NaN</td>\n",
              "      <td>NaN</td>\n",
              "    </tr>\n",
              "    <tr>\n",
              "      <th>Portugal</th>\n",
              "      <td>4.451419</td>\n",
              "      <td>3.549482</td>\n",
              "      <td>1.893899</td>\n",
              "      <td>NaN</td>\n",
              "      <td>NaN</td>\n",
              "    </tr>\n",
              "    <tr>\n",
              "      <th>Spain</th>\n",
              "      <td>1.549332</td>\n",
              "      <td>3.398669</td>\n",
              "      <td>4.156250</td>\n",
              "      <td>NaN</td>\n",
              "      <td>NaN</td>\n",
              "    </tr>\n",
              "    <tr>\n",
              "      <th>Sweden</th>\n",
              "      <td>3.567385</td>\n",
              "      <td>2.932237</td>\n",
              "      <td>2.665824</td>\n",
              "      <td>NaN</td>\n",
              "      <td>NaN</td>\n",
              "    </tr>\n",
              "    <tr>\n",
              "      <th>UK</th>\n",
              "      <td>NaN</td>\n",
              "      <td>2.231213</td>\n",
              "      <td>2.522133</td>\n",
              "      <td>3.303428</td>\n",
              "      <td>1.871568</td>\n",
              "    </tr>\n",
              "    <tr>\n",
              "      <th>US</th>\n",
              "      <td>NaN</td>\n",
              "      <td>3.370208</td>\n",
              "      <td>3.264068</td>\n",
              "      <td>0.995529</td>\n",
              "      <td>-10.942159</td>\n",
              "    </tr>\n",
              "  </tbody>\n",
              "</table>\n",
              "</div>"
            ],
            "text/plain": [
              "dgcat2          0-30%    30-60%     60-90%   90-120%  Above 120%\n",
              "Country                                                         \n",
              "Australia    3.205885  4.947205   4.042175  6.920201    2.987763\n",
              "Austria      5.207527  3.256526  -3.824000       NaN         NaN\n",
              "Belgium           NaN  4.191655   3.079868  2.702629   -0.692378\n",
              "Canada       2.515704  3.525446   4.523574  4.544839    0.574341\n",
              "Denmark      3.518584  1.700034   2.391147       NaN         NaN\n",
              "Finland      3.817029  2.418535   5.488887       NaN         NaN\n",
              "France       5.058476  2.616159   3.019631       NaN         NaN\n",
              "Germany      3.873759  0.875803        NaN       NaN         NaN\n",
              "Greece       4.001282  0.340200   2.696000  2.910632         NaN\n",
              "Ireland      4.209251  4.452167   3.950139  2.428571         NaN\n",
              "Italy        5.352632  2.054284   1.771529  1.028900         NaN\n",
              "Japan        7.331001  3.957143   1.008411  1.359564    0.537857\n",
              "Netherlands  4.082614  2.620772   1.070436       NaN         NaN\n",
              "New Zealand  2.465556  2.889572   3.883683 -2.256588    9.821699\n",
              "Norway       3.400122  5.108289  10.201270       NaN         NaN\n",
              "Portugal     4.451419  3.549482   1.893899       NaN         NaN\n",
              "Spain        1.549332  3.398669   4.156250       NaN         NaN\n",
              "Sweden       3.567385  2.932237   2.665824       NaN         NaN\n",
              "UK                NaN  2.231213   2.522133  3.303428    1.871568\n",
              "US                NaN  3.370208   3.264068  0.995529  -10.942159"
            ]
          },
          "execution_count": 32,
          "metadata": {},
          "output_type": "execute_result"
        }
      ],
      "source": [
        "## Averaged Country averages by debtgdp (\"equal weights\")\n",
        "RR.dRGDP.groupby([RR.Country, RR.dgcat2]).mean().unstack()"
      ]
    },
    {
      "cell_type": "markdown",
      "metadata": {
        "id": "jdncXeXbxdlk"
      },
      "source": [
        "## Selective treatment of early years"
      ]
    },
    {
      "cell_type": "code",
      "execution_count": 33,
      "metadata": {
        "id": "-maykPk-xdlk"
      },
      "outputs": [
        {
          "data": {
            "text/plain": [
              "dgcat\n",
              "0-30%        4.173523\n",
              "30-60%       3.092145\n",
              "60-90%       3.186575\n",
              "Above 90%    1.919934\n",
              "Name: dRGDP, dtype: float64"
            ]
          },
          "execution_count": 33,
          "metadata": {},
          "output_type": "execute_result"
        }
      ],
      "source": [
        "idx = (RR.Country == 'New Zealand') & (RR.Year < 1950) | (RR.Country == 'Australia') & (RR.Year < 1951) | (RR.Country == 'Canada') & (RR.Year < 1951)\n",
        "RR_selective = RR[idx == False]\n",
        "RR_selective.dRGDP.groupby(RR_selective.dgcat).mean()"
      ]
    },
    {
      "cell_type": "markdown",
      "metadata": {
        "id": "rwLEsOCQxdlk"
      },
      "source": [
        "## Equal weights\n",
        "## Table 3 Weights,Exclusion"
      ]
    },
    {
      "cell_type": "code",
      "execution_count": 34,
      "metadata": {
        "id": "SSYvpcetxdlk"
      },
      "outputs": [
        {
          "data": {
            "text/plain": [
              "Unnamed: 0    5.916408e+02\n",
              "Year          1.979633e+03\n",
              "Debt          1.621458e+07\n",
              "RGDP          2.369173e+05\n",
              "GDP           1.957611e+05\n",
              "dRGDP         3.408270e+00\n",
              "GDPI          5.034180e+01\n",
              "GDP1          1.470725e+07\n",
              "GDP2          1.824865e+07\n",
              "RGDP1         1.425590e+07\n",
              "RGDP2         3.072470e+07\n",
              "GDPI1         5.589542e+02\n",
              "GDPI2         8.690705e+01\n",
              "Infl          5.632643e+00\n",
              "Debt1         5.625405e+05\n",
              "Debt2         1.050730e+05\n",
              "Debtalt       1.006665e+07\n",
              "GDP2alt       4.450790e+05\n",
              "GDPalt        2.079659e+06\n",
              "RGDP2alt      1.033331e+05\n",
              "debtgdp       4.530375e+01\n",
              "GDP3          7.689113e+04\n",
              "GNI           5.156239e+08\n",
              "lRGDP         2.351587e+05\n",
              "lRGDP1        1.405853e+07\n",
              "lRGDP2        3.047113e+07\n",
              "dtype: float64"
            ]
          },
          "execution_count": 34,
          "metadata": {},
          "output_type": "execute_result"
        }
      ],
      "source": [
        "RR_selective.select_dtypes(include=[np.number]).mean()"
      ]
    },
    {
      "cell_type": "markdown",
      "metadata": {
        "id": "Mw40RMv_xdlk"
      },
      "source": [
        "## Correct weights\n",
        "## Table 3 Selective years exclusion"
      ]
    },
    {
      "cell_type": "code",
      "execution_count": 35,
      "metadata": {
        "id": "-ljujsYUxdll"
      },
      "outputs": [
        {
          "data": {
            "text/html": [
              "<div>\n",
              "<style scoped>\n",
              "    .dataframe tbody tr th:only-of-type {\n",
              "        vertical-align: middle;\n",
              "    }\n",
              "\n",
              "    .dataframe tbody tr th {\n",
              "        vertical-align: top;\n",
              "    }\n",
              "\n",
              "    .dataframe thead th {\n",
              "        text-align: right;\n",
              "    }\n",
              "</style>\n",
              "<table border=\"1\" class=\"dataframe\">\n",
              "  <thead>\n",
              "    <tr style=\"text-align: right;\">\n",
              "      <th>dgcat</th>\n",
              "      <th>0-30%</th>\n",
              "      <th>30-60%</th>\n",
              "      <th>60-90%</th>\n",
              "      <th>Above 90%</th>\n",
              "    </tr>\n",
              "    <tr>\n",
              "      <th>Country</th>\n",
              "      <th></th>\n",
              "      <th></th>\n",
              "      <th></th>\n",
              "      <th></th>\n",
              "    </tr>\n",
              "  </thead>\n",
              "  <tbody>\n",
              "    <tr>\n",
              "      <th>Australia</th>\n",
              "      <td>3.205885</td>\n",
              "      <td>4.947205</td>\n",
              "      <td>4.042175</td>\n",
              "      <td>NaN</td>\n",
              "    </tr>\n",
              "    <tr>\n",
              "      <th>Austria</th>\n",
              "      <td>5.207527</td>\n",
              "      <td>3.256526</td>\n",
              "      <td>-3.824000</td>\n",
              "      <td>NaN</td>\n",
              "    </tr>\n",
              "    <tr>\n",
              "      <th>Belgium</th>\n",
              "      <td>NaN</td>\n",
              "      <td>4.191655</td>\n",
              "      <td>3.079868</td>\n",
              "      <td>2.566828</td>\n",
              "    </tr>\n",
              "    <tr>\n",
              "      <th>Canada</th>\n",
              "      <td>2.515704</td>\n",
              "      <td>3.525446</td>\n",
              "      <td>4.523574</td>\n",
              "      <td>NaN</td>\n",
              "    </tr>\n",
              "    <tr>\n",
              "      <th>Denmark</th>\n",
              "      <td>3.518584</td>\n",
              "      <td>1.700034</td>\n",
              "      <td>2.391147</td>\n",
              "      <td>NaN</td>\n",
              "    </tr>\n",
              "    <tr>\n",
              "      <th>Finland</th>\n",
              "      <td>3.817029</td>\n",
              "      <td>2.418535</td>\n",
              "      <td>5.488887</td>\n",
              "      <td>NaN</td>\n",
              "    </tr>\n",
              "    <tr>\n",
              "      <th>France</th>\n",
              "      <td>5.058476</td>\n",
              "      <td>2.616159</td>\n",
              "      <td>3.019631</td>\n",
              "      <td>NaN</td>\n",
              "    </tr>\n",
              "    <tr>\n",
              "      <th>Germany</th>\n",
              "      <td>3.873759</td>\n",
              "      <td>0.875803</td>\n",
              "      <td>NaN</td>\n",
              "      <td>NaN</td>\n",
              "    </tr>\n",
              "    <tr>\n",
              "      <th>Greece</th>\n",
              "      <td>4.001282</td>\n",
              "      <td>0.340200</td>\n",
              "      <td>2.696000</td>\n",
              "      <td>2.910632</td>\n",
              "    </tr>\n",
              "    <tr>\n",
              "      <th>Ireland</th>\n",
              "      <td>4.209251</td>\n",
              "      <td>4.452167</td>\n",
              "      <td>3.950139</td>\n",
              "      <td>2.428571</td>\n",
              "    </tr>\n",
              "    <tr>\n",
              "      <th>Italy</th>\n",
              "      <td>5.352632</td>\n",
              "      <td>2.054284</td>\n",
              "      <td>1.771529</td>\n",
              "      <td>1.028900</td>\n",
              "    </tr>\n",
              "    <tr>\n",
              "      <th>Japan</th>\n",
              "      <td>7.331001</td>\n",
              "      <td>3.957143</td>\n",
              "      <td>1.008411</td>\n",
              "      <td>0.687258</td>\n",
              "    </tr>\n",
              "    <tr>\n",
              "      <th>Netherlands</th>\n",
              "      <td>4.082614</td>\n",
              "      <td>2.620772</td>\n",
              "      <td>1.070436</td>\n",
              "      <td>NaN</td>\n",
              "    </tr>\n",
              "    <tr>\n",
              "      <th>New Zealand</th>\n",
              "      <td>2.465556</td>\n",
              "      <td>2.889572</td>\n",
              "      <td>3.883683</td>\n",
              "      <td>-7.635102</td>\n",
              "    </tr>\n",
              "    <tr>\n",
              "      <th>Norway</th>\n",
              "      <td>3.400122</td>\n",
              "      <td>5.108289</td>\n",
              "      <td>10.201270</td>\n",
              "      <td>NaN</td>\n",
              "    </tr>\n",
              "    <tr>\n",
              "      <th>Portugal</th>\n",
              "      <td>4.451419</td>\n",
              "      <td>3.549482</td>\n",
              "      <td>1.893899</td>\n",
              "      <td>NaN</td>\n",
              "    </tr>\n",
              "    <tr>\n",
              "      <th>Spain</th>\n",
              "      <td>1.549332</td>\n",
              "      <td>3.398669</td>\n",
              "      <td>4.156250</td>\n",
              "      <td>NaN</td>\n",
              "    </tr>\n",
              "    <tr>\n",
              "      <th>Sweden</th>\n",
              "      <td>3.567385</td>\n",
              "      <td>2.932237</td>\n",
              "      <td>2.665824</td>\n",
              "      <td>NaN</td>\n",
              "    </tr>\n",
              "    <tr>\n",
              "      <th>UK</th>\n",
              "      <td>NaN</td>\n",
              "      <td>2.231213</td>\n",
              "      <td>2.522133</td>\n",
              "      <td>2.399096</td>\n",
              "    </tr>\n",
              "    <tr>\n",
              "      <th>US</th>\n",
              "      <td>NaN</td>\n",
              "      <td>3.370208</td>\n",
              "      <td>3.264068</td>\n",
              "      <td>-1.988893</td>\n",
              "    </tr>\n",
              "  </tbody>\n",
              "</table>\n",
              "</div>"
            ],
            "text/plain": [
              "dgcat           0-30%    30-60%     60-90%  Above 90%\n",
              "Country                                              \n",
              "Australia    3.205885  4.947205   4.042175        NaN\n",
              "Austria      5.207527  3.256526  -3.824000        NaN\n",
              "Belgium           NaN  4.191655   3.079868   2.566828\n",
              "Canada       2.515704  3.525446   4.523574        NaN\n",
              "Denmark      3.518584  1.700034   2.391147        NaN\n",
              "Finland      3.817029  2.418535   5.488887        NaN\n",
              "France       5.058476  2.616159   3.019631        NaN\n",
              "Germany      3.873759  0.875803        NaN        NaN\n",
              "Greece       4.001282  0.340200   2.696000   2.910632\n",
              "Ireland      4.209251  4.452167   3.950139   2.428571\n",
              "Italy        5.352632  2.054284   1.771529   1.028900\n",
              "Japan        7.331001  3.957143   1.008411   0.687258\n",
              "Netherlands  4.082614  2.620772   1.070436        NaN\n",
              "New Zealand  2.465556  2.889572   3.883683  -7.635102\n",
              "Norway       3.400122  5.108289  10.201270        NaN\n",
              "Portugal     4.451419  3.549482   1.893899        NaN\n",
              "Spain        1.549332  3.398669   4.156250        NaN\n",
              "Sweden       3.567385  2.932237   2.665824        NaN\n",
              "UK                NaN  2.231213   2.522133   2.399096\n",
              "US                NaN  3.370208   3.264068  -1.988893"
            ]
          },
          "execution_count": 35,
          "metadata": {},
          "output_type": "execute_result"
        }
      ],
      "source": [
        "RR_selective.dRGDP.groupby([RR_selective.Country, RR_selective.dgcat]).mean().unstack()"
      ]
    },
    {
      "cell_type": "markdown",
      "metadata": {
        "id": "2vW38WdOxdll"
      },
      "source": [
        "## And dropping because of spreadsheet error"
      ]
    },
    {
      "cell_type": "code",
      "execution_count": 36,
      "metadata": {
        "id": "VwrF1VG8xdll"
      },
      "outputs": [
        {
          "data": {
            "text/plain": [
              "dgcat\n",
              "0-30%        4.236391\n",
              "30-60%       2.958902\n",
              "60-90%       3.160164\n",
              "Above 90%    1.692155\n",
              "Name: dRGDP, dtype: float64"
            ]
          },
          "execution_count": 36,
          "metadata": {},
          "output_type": "execute_result"
        }
      ],
      "source": [
        "drop = [\"Australia\",\"Austria\",\"Belgium\",\"Canada\",\"Denmark\"]\n",
        "idx = [False if x in drop else True for x in RR_selective.Country]\n",
        "RR_selective_spreadsheet = RR_selective[idx]\n",
        "RR_selective_spreadsheet.dRGDP.groupby(RR.dgcat).mean()"
      ]
    },
    {
      "cell_type": "markdown",
      "metadata": {
        "id": "PUXfIEWmxdll"
      },
      "source": [
        "## New Zealand transcription error"
      ]
    },
    {
      "cell_type": "code",
      "execution_count": 37,
      "metadata": {
        "id": "Dipp-gQlxdll"
      },
      "outputs": [
        {
          "data": {
            "text/plain": [
              "dgcat\n",
              "0-30%        4.236391\n",
              "30-60%       2.958902\n",
              "60-90%       3.160164\n",
              "Above 90%    1.692155\n",
              "Name: dRGDP, dtype: float64"
            ]
          },
          "execution_count": 37,
          "metadata": {},
          "output_type": "execute_result"
        }
      ],
      "source": [
        "a = RR_selective_spreadsheet.Country\n",
        "b = RR_selective_spreadsheet.dgcat\n",
        "RR_selective_spreadsheet.dRGDP.groupby(b).mean()"
      ]
    },
    {
      "cell_type": "markdown",
      "metadata": {
        "id": "vDPJRkX4xdlm"
      },
      "source": [
        "## Medians"
      ]
    },
    {
      "cell_type": "code",
      "execution_count": 38,
      "metadata": {
        "id": "DyTrBcR4xdlm"
      },
      "outputs": [
        {
          "data": {
            "text/plain": [
              "dgcat\n",
              "0-30%        4.145376\n",
              "30-60%       3.104629\n",
              "60-90%       2.897829\n",
              "Above 90%    2.335324\n",
              "Name: dRGDP, dtype: float64"
            ]
          },
          "execution_count": 38,
          "metadata": {},
          "output_type": "execute_result"
        }
      ],
      "source": [
        "RR.dRGDP.groupby(RR.dgcat).median() # Correct, equal weight"
      ]
    },
    {
      "cell_type": "code",
      "execution_count": 39,
      "metadata": {
        "id": "t0K8gfI2xdlm"
      },
      "outputs": [
        {
          "data": {
            "text/plain": [
              "dgcat2\n",
              "0-30%         4.145376\n",
              "30-60%        3.104629\n",
              "60-90%        2.897829\n",
              "90-120%       2.373340\n",
              "Above 120%    2.039469\n",
              "Name: dRGDP, dtype: float64"
            ]
          },
          "execution_count": 39,
          "metadata": {},
          "output_type": "execute_result"
        }
      ],
      "source": [
        "RR.dRGDP.groupby(RR.dgcat2).median() # Correct, expanded categories, equal weight"
      ]
    },
    {
      "cell_type": "markdown",
      "metadata": {
        "id": "N7-TP7jBxdlm"
      },
      "source": [
        "## Counts of years"
      ]
    },
    {
      "cell_type": "code",
      "execution_count": 40,
      "metadata": {
        "id": "6nn48L16xdlm"
      },
      "outputs": [
        {
          "data": {
            "text/plain": [
              "dgcat\n",
              "0-30%        426.0\n",
              "30-60%       439.0\n",
              "60-90%       200.0\n",
              "Above 90%    110.0\n",
              "dtype: float64"
            ]
          },
          "execution_count": 40,
          "metadata": {},
          "output_type": "execute_result"
        }
      ],
      "source": [
        "RR.Country.groupby([RR.Country, RR.dgcat]).size().unstack().sum()"
      ]
    },
    {
      "cell_type": "code",
      "execution_count": 41,
      "metadata": {
        "id": "VqwNCX8Qxdlm"
      },
      "outputs": [
        {
          "data": {
            "text/plain": [
              "dgcat\n",
              "0-30%        426.0\n",
              "30-60%       439.0\n",
              "60-90%       200.0\n",
              "Above 90%     96.0\n",
              "dtype: float64"
            ]
          },
          "execution_count": 41,
          "metadata": {},
          "output_type": "execute_result"
        }
      ],
      "source": [
        "RR_selective.Country.groupby([RR.Country, RR.dgcat]).size().unstack().sum()"
      ]
    },
    {
      "cell_type": "code",
      "execution_count": 42,
      "metadata": {
        "id": "S9y9I5A9xdlm"
      },
      "outputs": [
        {
          "data": {
            "text/plain": [
              "dgcat\n",
              "0-30%        329.0\n",
              "30-60%       324.0\n",
              "60-90%       138.0\n",
              "Above 90%     71.0\n",
              "dtype: float64"
            ]
          },
          "execution_count": 42,
          "metadata": {},
          "output_type": "execute_result"
        }
      ],
      "source": [
        "RR_selective_spreadsheet.Country.groupby([RR.Country, RR.dgcat]).size().unstack().sum()"
      ]
    },
    {
      "cell_type": "markdown",
      "metadata": {
        "id": "XgHgaHE1xdln"
      },
      "source": [
        "## Categorical scatterplot"
      ]
    },
    {
      "cell_type": "code",
      "execution_count": 43,
      "metadata": {
        "id": "_GgZczQsxdln"
      },
      "outputs": [
        {
          "name": "stdout",
          "output_type": "stream",
          "text": [
            "Figure(640x480)\n"
          ]
        },
        {
          "data": {
            "image/png": "[encoded data removed]",
            "text/plain": [
              "<Figure size 640x480 with 1 Axes>"
            ]
          },
          "metadata": {},
          "output_type": "display_data"
        }
      ],
      "source": [
        "labels = [\"0-30%\",\"30-60%\",\"60-90%\",\"Above 90%\"]\n",
        "dat = [np.array(RR.dRGDP[RR.dgcat==x]) for x in labels]\n",
        "print(sm.graphics.violinplot(dat, labels=labels))"
      ]
    },
    {
      "cell_type": "code",
      "execution_count": 44,
      "metadata": {
        "id": "vxd42zK3xdln"
      },
      "outputs": [
        {
          "name": "stdout",
          "output_type": "stream",
          "text": [
            "Figure(640x480)\n"
          ]
        },
        {
          "data": {
            "image/png": "[encoded data removed]",
            "text/plain": [
              "<Figure size 640x480 with 1 Axes>"
            ]
          },
          "metadata": {},
          "output_type": "display_data"
        }
      ],
      "source": [
        "labels = [\"0-30%\",\"30-60%\",\"60-90%\",\"90-120%\",\"Above 120%\"]\n",
        "dat = [np.array(RR.dRGDP[RR.dgcat2==x]) for x in labels]\n",
        "print(sm.graphics.violinplot(dat, labels=labels))"
      ]
    },
    {
      "cell_type": "markdown",
      "metadata": {
        "id": "NhUFUsUVxdln"
      },
      "source": [
        "## Country-Year average by debtgdp for more recent samples\n"
      ]
    },
    {
      "cell_type": "code",
      "execution_count": 45,
      "metadata": {
        "id": "m1GQzolpxdln"
      },
      "outputs": [
        {
          "data": {
            "text/plain": [
              "[(1950,\n",
              "  dgcat\n",
              "  0-30%        4.135295\n",
              "  30-60%       2.980839\n",
              "  60-90%       3.100982\n",
              "  Above 90%    2.121852\n",
              "  Name: dRGDP, dtype: float64),\n",
              " (1960,\n",
              "  dgcat\n",
              "  0-30%        3.895619\n",
              "  30-60%       2.909601\n",
              "  60-90%       2.779663\n",
              "  Above 90%    2.074064\n",
              "  Name: dRGDP, dtype: float64),\n",
              " (1970,\n",
              "  dgcat\n",
              "  0-30%        3.145224\n",
              "  30-60%       2.644951\n",
              "  60-90%       2.559289\n",
              "  Above 90%    1.959229\n",
              "  Name: dRGDP, dtype: float64),\n",
              " (1980,\n",
              "  dgcat\n",
              "  0-30%        2.541408\n",
              "  30-60%       2.451346\n",
              "  60-90%       2.435681\n",
              "  Above 90%    1.959229\n",
              "  Name: dRGDP, dtype: float64),\n",
              " (1990,\n",
              "  dgcat\n",
              "  0-30%        2.669334\n",
              "  30-60%       2.403622\n",
              "  60-90%       2.457587\n",
              "  Above 90%    1.823201\n",
              "  Name: dRGDP, dtype: float64),\n",
              " (2000,\n",
              "  dgcat\n",
              "  0-30%        2.747593\n",
              "  30-60%       1.881735\n",
              "  60-90%       1.290506\n",
              "  Above 90%    1.745087\n",
              "  Name: dRGDP, dtype: float64)]"
            ]
          },
          "execution_count": 45,
          "metadata": {},
          "output_type": "execute_result"
        }
      ],
      "source": [
        "years = range(1950, 2001, 10)\n",
        "f = lambda x: (x, RR[RR.Year >= x].dRGDP.groupby(RR[RR.Year >= x].dgcat).mean())\n",
        "[f(x) for x in years]"
      ]
    },
    {
      "cell_type": "markdown",
      "metadata": {
        "id": "R5KsAMVOxdln"
      },
      "source": [
        "# Lagged dependent variable"
      ]
    },
    {
      "cell_type": "code",
      "execution_count": 61,
      "metadata": {
        "id": "xBqZ9kVmxdlo"
      },
      "outputs": [
        {
          "name": "stdout",
          "output_type": "stream",
          "text": [
            "                            OLS Regression Results                            \n",
            "==============================================================================\n",
            "Dep. Variable:                  dRGDP   R-squared:                       0.182\n",
            "Model:                            OLS   Adj. R-squared:                  0.179\n",
            "Method:                 Least Squares   F-statistic:                     63.84\n",
            "Date:                Thu, 25 Sep 2025   Prob (F-statistic):           8.90e-49\n",
            "Time:                        17:57:55   Log-Likelihood:                -2723.0\n",
            "No. Observations:                1155   AIC:                             5456.\n",
            "Df Residuals:                    1150   BIC:                             5481.\n",
            "Df Model:                           4                                         \n",
            "Covariance Type:            nonrobust                                         \n",
            "======================================================================================\n",
            "                         coef    std err          t      P>|t|      [0.025      0.975]\n",
            "--------------------------------------------------------------------------------------\n",
            "Intercept              2.5045      0.173     14.461      0.000       2.165       2.844\n",
            "dgcat[T.30-60%]       -0.6746      0.179     -3.778      0.000      -1.025      -0.324\n",
            "dgcat[T.60-90%]       -0.5782      0.224     -2.585      0.010      -1.017      -0.139\n",
            "dgcat[T.Above 90%]    -1.0539      0.287     -3.668      0.000      -1.618      -0.490\n",
            "dRGDP_lag              0.3715      0.027     13.668      0.000       0.318       0.425\n",
            "==============================================================================\n",
            "Omnibus:                      111.755   Durbin-Watson:                   2.108\n",
            "Prob(Omnibus):                  0.000   Jarque-Bera (JB):              577.799\n",
            "Skew:                          -0.272   Prob(JB):                    3.41e-126\n",
            "Kurtosis:                       6.422   Cond. No.                         20.6\n",
            "==============================================================================\n",
            "\n",
            "Notes:\n",
            "[1] Standard Errors assume that the covariance matrix of the errors is correctly specified.\n"
          ]
        }
      ],
      "source": [
        "# Ensure lagged variable exists\n",
        "if 'dRGDP_lag' not in RR.columns:\n",
        "    RR = RR.sort_values(['Country', 'Year'])\n",
        "    RR['dRGDP_lag'] = RR.groupby('Country')['dRGDP'].shift(1)\n",
        "\n",
        "def new_func():\n",
        "    y, X = patsy.dmatrices('dRGDP ~ dgcat + dRGDP_lag', data=RR[['dRGDP', 'dgcat', 'dRGDP_lag']].dropna())\n",
        "    print(sm.OLS(y, X).fit().summary())\n",
        "\n",
        "new_func()\n"
      ]
    },
    {
      "cell_type": "markdown",
      "metadata": {
        "id": "rcWCclDFxdlo"
      },
      "source": [
        "# Fixed effects"
      ]
    },
    {
      "cell_type": "code",
      "execution_count": 62,
      "metadata": {
        "id": "_mvhaLxZxdlo"
      },
      "outputs": [
        {
          "name": "stdout",
          "output_type": "stream",
          "text": [
            "                            OLS Regression Results                            \n",
            "==============================================================================\n",
            "Dep. Variable:                  dRGDP   R-squared:                       0.195\n",
            "Model:                            OLS   Adj. R-squared:                  0.178\n",
            "Method:                 Least Squares   F-statistic:                     11.89\n",
            "Date:                Thu, 25 Sep 2025   Prob (F-statistic):           1.84e-39\n",
            "Time:                        17:57:58   Log-Likelihood:                -2713.7\n",
            "No. Observations:                1155   AIC:                             5475.\n",
            "Df Residuals:                    1131   BIC:                             5597.\n",
            "Df Model:                          23                                         \n",
            "Covariance Type:            nonrobust                                         \n",
            "==========================================================================================\n",
            "                             coef    std err          t      P>|t|      [0.025      0.975]\n",
            "------------------------------------------------------------------------------------------\n",
            "Intercept                  2.8787      0.355      8.118      0.000       2.183       3.574\n",
            "dgcat[T.30-60%]           -0.8192      0.208     -3.943      0.000      -1.227      -0.412\n",
            "dgcat[T.60-90%]           -0.8052      0.258     -3.115      0.002      -1.312      -0.298\n",
            "dgcat[T.Above 90%]        -1.2941      0.339     -3.817      0.000      -1.959      -0.629\n",
            "Country[T.Austria]        -0.2098      0.463     -0.454      0.650      -1.117       0.698\n",
            "Country[T.Belgium]        -0.0507      0.480     -0.106      0.916      -0.993       0.891\n",
            "Country[T.Canada]          0.3403      0.469      0.725      0.468      -0.580       1.261\n",
            "Country[T.Denmark]        -0.8121      0.476     -1.707      0.088      -1.746       0.121\n",
            "Country[T.Finland]        -0.4436      0.458     -0.969      0.333      -1.342       0.455\n",
            "Country[T.France]         -0.0764      0.479     -0.159      0.873      -1.017       0.864\n",
            "Country[T.Germany]        -0.7266      0.469     -1.548      0.122      -1.648       0.195\n",
            "Country[T.Greece]         -0.3446      0.538     -0.640      0.522      -1.401       0.711\n",
            "Country[T.Ireland]         0.3872      0.471      0.822      0.411      -0.537       1.312\n",
            "Country[T.Italy]          -0.3490      0.469     -0.743      0.457      -1.270       0.572\n",
            "Country[T.Japan]           0.4994      0.482      1.036      0.301      -0.447       1.445\n",
            "Country[T.Netherlands]    -0.4065      0.486     -0.837      0.403      -1.360       0.547\n",
            "Country[T.New Zealand]    -0.2624      0.465     -0.565      0.572      -1.174       0.649\n",
            "Country[T.Norway]         -0.3741      0.459     -0.814      0.416      -1.276       0.527\n",
            "Country[T.Portugal]       -0.0705      0.469     -0.150      0.881      -0.992       0.851\n",
            "Country[T.Spain]          -0.1694      0.528     -0.321      0.748      -1.205       0.866\n",
            "Country[T.Sweden]         -0.4845      0.462     -1.050      0.294      -1.390       0.421\n",
            "Country[T.UK]             -0.3898      0.474     -0.823      0.411      -1.319       0.540\n",
            "Country[T.US]              0.0911      0.471      0.193      0.847      -0.833       1.015\n",
            "dRGDP_lag                  0.3515      0.028     12.701      0.000       0.297       0.406\n",
            "==============================================================================\n",
            "Omnibus:                      111.745   Durbin-Watson:                   2.106\n",
            "Prob(Omnibus):                  0.000   Jarque-Bera (JB):              575.683\n",
            "Skew:                          -0.274   Prob(JB):                    9.82e-126\n",
            "Kurtosis:                       6.415   Cond. No.                         91.7\n",
            "==============================================================================\n",
            "\n",
            "Notes:\n",
            "[1] Standard Errors assume that the covariance matrix of the errors is correctly specified.\n"
          ]
        }
      ],
      "source": [
        "# Ensure lagged variable exists\n",
        "if 'dRGDP_lag' not in RR.columns:\n",
        "    # Create lagged variable using transform instead of apply to maintain proper indexing\n",
        "    RR = RR.sort_values(['Country', 'Year'])  # Ensure proper sorting\n",
        "    RR['dRGDP_lag'] = RR.groupby('Country')['dRGDP'].shift(1)\n",
        "\n",
        "y,X = patsy.dmatrices('dRGDP ~ dgcat + dRGDP_lag + Country', data=RR[['dRGDP', 'dgcat', 'dRGDP_lag', 'Country']].dropna())\n",
        "print(sm.OLS(y,X).fit().summary())"
      ]
    }
  ],
  "metadata": {
    "colab": {
      "provenance": []
    },
    "kernelspec": {
      "display_name": "base",
      "language": "python",
      "name": "python3"
    },
    "language_info": {
      "codemirror_mode": {
        "name": "ipython",
        "version": 3
      },
      "file_extension": ".py",
      "mimetype": "text/x-python",
      "name": "python",
      "nbconvert_exporter": "python",
      "pygments_lexer": "ipython3",
      "version": "3.13.5"
    }
  },
  "nbformat": 4,
  "nbformat_minor": 0
}
