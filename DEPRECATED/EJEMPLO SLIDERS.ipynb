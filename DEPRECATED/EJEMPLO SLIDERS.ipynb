{
 "cells": [
  {
   "cell_type": "code",
   "execution_count": 11,
   "id": "30c35a80",
   "metadata": {},
   "outputs": [
    {
     "data": {
      "application/vnd.jupyter.widget-view+json": {
       "model_id": "00b91e5a8d9842d792eb7bb604f25f7d",
       "version_major": 2,
       "version_minor": 0
      },
      "text/plain": [
       "interactive(children=(IntSlider(value=1, description='Frecuencia:', max=10, min=1), Output()), _dom_classes=('…"
      ]
     },
     "metadata": {},
     "output_type": "display_data"
    },
    {
     "data": {
      "text/plain": [
       "<function __main__.plot_with_intslider(frecuencia)>"
      ]
     },
     "execution_count": 11,
     "metadata": {},
     "output_type": "execute_result"
    }
   ],
   "source": [
    "# Ejemplo 1: IntSlider - Cambia la frecuencia del seno\n",
    "import ipywidgets as widgets\n",
    "from IPython.display import display\n",
    "import numpy as np\n",
    "import matplotlib.pyplot as plt\n",
    "\n",
    "# Función para graficar el seno con frecuencia variable\n",
    "def plot_with_intslider(frecuencia):\n",
    "    x = np.linspace(0, 2*np.pi, 100)\n",
    "    y = np.sin(frecuencia * x)              # Frecuencia controlada por slider\n",
    "    plt.plot(x, y)\n",
    "    plt.title(f'Frecuencia: {frecuencia}')\n",
    "    plt.xlabel('x')\n",
    "    plt.ylabel('sin(frecuencia*x)')\n",
    "    plt.grid(True)\n",
    "    plt.show()\n",
    "\n",
    "# Slider para frecuencia (entero)\n",
    "    int_slider = widgets.IntSlider(value=1, min=1, max=10, step=1, description='Frecuencia:')\n",
    "widgets.interact(plot_with_intslider, frecuencia=int_slider)\n"
   ]
  },
  {
   "cell_type": "code",
   "execution_count": 10,
   "id": "7a081ae1",
   "metadata": {},
   "outputs": [
    {
     "data": {
      "application/vnd.jupyter.widget-view+json": {
       "model_id": "115b5a9786a7421ea133cf272959fef8",
       "version_major": 2,
       "version_minor": 0
      },
      "text/plain": [
       "interactive(children=(FloatSlider(value=1.0, description='Amplitud:', max=2.0, min=0.1), Output()), _dom_class…"
      ]
     },
     "metadata": {},
     "output_type": "display_data"
    },
    {
     "data": {
      "text/plain": [
       "<function __main__.plot_with_floatslider(amplitud)>"
      ]
     },
     "execution_count": 10,
     "metadata": {},
     "output_type": "execute_result"
    }
   ],
   "source": [
    "# Ejemplo 2: FloatSlider - Cambia la amplitud del seno\n",
    "import ipywidgets as widgets\n",
    "from IPython.display import display\n",
    "import numpy as np\n",
    "import matplotlib.pyplot as plt\n",
    "\n",
    "# Función para graficar el seno con amplitud variable\n",
    "def plot_with_floatslider(amplitud):\n",
    "    x = np.linspace(0, 2*np.pi, 100)\n",
    "    y = amplitud * np.sin(x)                # Amplitud controlada por slider\n",
    "    plt.plot(x, y)\n",
    "    plt.title(f'Amplitud: {amplitud}')\n",
    "    plt.xlabel('x')\n",
    "    plt.ylabel('amplitud*sin(x)')\n",
    "    plt.grid(True)\n",
    "    plt.show()\n",
    "    # Slider para amplitud (decimal)\n",
    "    float_slider = widgets.FloatSlider(value=1.0, min=0.1, max=2.0, step=0.1, description='Amplitud:')\n",
    "\n",
    "widgets.interact(plot_with_floatslider, amplitud=float_slider)"
   ]
  },
  {
   "cell_type": "code",
   "execution_count": 13,
   "id": "78541aa8",
   "metadata": {},
   "outputs": [
    {
     "data": {
      "application/vnd.jupyter.widget-view+json": {
       "model_id": "5ea8870edc0f4c5d9d4202cb86455b2f",
       "version_major": 2,
       "version_minor": 0
      },
      "text/plain": [
       "interactive(children=(FloatRangeSlider(value=(0.0, 6.283185307179586), description='Rango x:', max=6.283185307…"
      ]
     },
     "metadata": {},
     "output_type": "display_data"
    },
    {
     "data": {
      "text/plain": [
       "<function __main__.plot_with_rangeslider(rango)>"
      ]
     },
     "execution_count": 13,
     "metadata": {},
     "output_type": "execute_result"
    }
   ],
   "source": [
    "# Ejemplo 3: RangeSlider - Cambia el rango del eje x en la gráfica\n",
    "import ipywidgets as widgets\n",
    "from IPython.display import display\n",
    "import numpy as np\n",
    "import matplotlib.pyplot as plt\n",
    "\n",
    "# Función para graficar el seno en un rango personalizado\n",
    "def plot_with_rangeslider(rango):\n",
    "    x = np.linspace(rango[0], rango[1], 100)    # Rango controlado por slider\n",
    "    y = np.sin(x)\n",
    "    plt.plot(x, y)\n",
    "    plt.title(f'Rango x: {rango[0]:.2f} a {rango[1]:.2f}')\n",
    "    plt.xlabel('x')\n",
    "    plt.ylabel('sin(x)')\n",
    "    plt.grid(True)\n",
    "    plt.show()\n",
    "\n",
    "# RangeSlider para rango de x\n",
    "    range_slider = widgets.FloatRangeSlider(value=[0, 2*np.pi], min=0, max=2*np.pi, step=0.1, description='Rango x:')\n",
    "\n",
    "widgets.interact(plot_with_rangeslider, rango=range_slider)"
   ]
  },
  {
   "cell_type": "code",
   "execution_count": 19,
   "id": "f4b5f5ec",
   "metadata": {},
   "outputs": [
    {
     "data": {
      "application/vnd.jupyter.widget-view+json": {
       "model_id": "2721e8acec374bbd94145ecfcf2a62d7",
       "version_major": 2,
       "version_minor": 0
      },
      "text/plain": [
       "interactive(children=(SelectionSlider(description='Color:', options=('blue', 'red', 'green', 'orange', 'purple…"
      ]
     },
     "metadata": {},
     "output_type": "display_data"
    },
    {
     "data": {
      "text/plain": [
       "<function __main__.plot_with_selectionslider(color)>"
      ]
     },
     "execution_count": 19,
     "metadata": {},
     "output_type": "execute_result"
    }
   ],
   "source": [
    "# Ejemplo 5: SelectionSlider - Cambia el color de la gráfica\n",
    "import ipywidgets as widgets\n",
    "from IPython.display import display\n",
    "import numpy as np\n",
    "import matplotlib.pyplot as plt\n",
    "\n",
    "# Función para graficar el seno y cambiar el color\n",
    "def plot_with_selectionslider(color):\n",
    "    x = np.linspace(0, 2*np.pi, 100)\n",
    "    y = np.sin(x)\n",
    "    plt.plot(x, y, color=color)\n",
    "    plt.title(f'Color: {color}')\n",
    "    plt.xlabel('x')\n",
    "    plt.ylabel('sin(x)')\n",
    "    plt.grid(True)\n",
    "    plt.show()\n",
    "\n",
    "# SelectionSlider para elegir color\n",
    "    selection_slider = widgets.SelectionSlider(options=['blue', 'red', 'green', 'orange', 'purple'],\n",
    "                                           value='blue', description='Color:')\n",
    "widgets.interact(plot_with_selectionslider, color=selection_slider)"
   ]
  }
 ],
 "metadata": {
  "kernelspec": {
   "display_name": "base",
   "language": "python",
   "name": "python3"
  },
  "language_info": {
   "codemirror_mode": {
    "name": "ipython",
    "version": 3
   },
   "file_extension": ".py",
   "mimetype": "text/x-python",
   "name": "python",
   "nbconvert_exporter": "python",
   "pygments_lexer": "ipython3",
   "version": "3.13.5"
  }
 },
 "nbformat": 4,
 "nbformat_minor": 5
}
