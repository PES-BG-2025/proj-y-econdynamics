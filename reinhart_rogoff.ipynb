{
  "cells": [
    {
      "cell_type": "markdown",
      "metadata": {
        "id": "9ZTGgd7_xdle"
      },
      "source": [
        "# Reinhart-Rogoff replication\n",
        "\n",
        "* Replication of Reinhart-Rogoff \"Growth in a Time of Debt.\"\n",
        "* Python port of R code by Thomas Herndon | Michael Ash | Robert Pollin\n",
        "* https://scholar.harvard.edu/files/rogoff/files/growth_in_time_debt_aer.pdf\n",
        "* Author: Vincent Arel-Bundock varel@umich.edu\n",
        "* Data: https://gist.github.com/vincentarelbundock/5409893/raw/a623f2f3bae027a0e51dd01ac5b70d44d909a7b9/RR-processed.csv"
      ]
    },
    {
      "cell_type": "code",
      "execution_count": null,
      "metadata": {
        "colab": {
          "base_uri": "https://localhost:8080/",
          "height": 321
        },
        "id": "6AGLK6b0xdlf",
        "outputId": "957a618f-f0e4-4061-a40b-a67ba78aafbd"
      },
      "outputs": [],
      "source": [
        "import statsmodels.api as sm\n",
        "import patsy\n",
        "import pandas as pd\n",
        "import numpy as np\n",
        "import matplotlib.pyplot as plt\n",
        "\n",
        "RR = pd.read_csv('RR-processed.csv')"
      ]
    },
    {
      "cell_type": "markdown",
      "metadata": {
        "id": "VRBwGH1Mxdlg"
      },
      "source": [
        "## Number of observations per country"
      ]
    },
    {
      "cell_type": "code",
      "execution_count": null,
      "metadata": {
        "id": "ShB6Abnfxdlg"
      },
      "outputs": [],
      "source": [
        "RR.groupby('Country').size()"
      ]
    },
    {
      "cell_type": "markdown",
      "metadata": {
        "id": "yMjlEs7vxdlh"
      },
      "source": [
        "## Bins"
      ]
    },
    {
      "cell_type": "code",
      "execution_count": null,
      "metadata": {
        "id": "cyAr_XA6xdlh"
      },
      "outputs": [],
      "source": [
        "bins = [\"0-30%\",\"30-60%\",\"60-90%\",\"Above 90%\"]\n",
        "RR['dgcat'] = np.digitize(RR.debtgdp, [0,30,60,90,np.inf]) - 1\n",
        "RR.dgcat = [bins[x] for x in RR.dgcat]\n",
        "\n",
        "bins = [\"0-30%\",\"30-60%\",\"60-90%\",\"90-120%\",\"Above 120%\"]\n",
        "RR['dgcat2'] = np.digitize(RR.debtgdp, [0,30,60,90,120,np.inf]) - 1\n",
        "RR.dgcat2 = [bins[x] for x in RR.dgcat2]"
      ]
    },
    {
      "cell_type": "markdown",
      "metadata": {
        "id": "-tYUULoNxdlh"
      },
      "source": [
        "## Regression analysis"
      ]
    },
    {
      "cell_type": "code",
      "execution_count": null,
      "metadata": {
        "id": "-2rZqhjRxdli"
      },
      "outputs": [],
      "source": [
        "y,X = patsy.dmatrices('dRGDP ~ dgcat', data=RR[['dRGDP', 'dgcat']].dropna())\n",
        "print (sm.OLS(y,X).fit().summary())"
      ]
    },
    {
      "cell_type": "code",
      "execution_count": null,
      "metadata": {
        "id": "qQ6_JQudxdli"
      },
      "outputs": [],
      "source": [
        "y2,X2 = patsy.dmatrices('dRGDP ~ dgcat2', data=RR[['dRGDP', 'dgcat2']].dropna())\n",
        "print (sm.OLS(y2,X2).fit().summary())"
      ]
    },
    {
      "cell_type": "markdown",
      "metadata": {
        "id": "tOI49kWAxdli"
      },
      "source": [
        "## Table 3 Corrected"
      ]
    },
    {
      "cell_type": "code",
      "execution_count": null,
      "metadata": {
        "id": "7KveDFE_xdlj"
      },
      "outputs": [],
      "source": [
        "## Country-Year average by debtgdp (\"correct weights\")\n",
        "RR.dRGDP.groupby(RR.dgcat).mean()"
      ]
    },
    {
      "cell_type": "code",
      "execution_count": null,
      "metadata": {
        "id": "CyMr_Rvuxdlj"
      },
      "outputs": [],
      "source": [
        "## Averaged Country averages by debtgdp (\"equal weights\")\n",
        "RR.dRGDP.groupby([RR.Country, RR.dgcat]).mean().unstack()"
      ]
    },
    {
      "cell_type": "code",
      "execution_count": null,
      "metadata": {
        "id": "rcOxhcVzxdlj"
      },
      "outputs": [],
      "source": [
        "## Country-Year average by debtgdp (\"correct weights\") expanded categories\n",
        "RR.dRGDP.groupby(RR.dgcat2).mean()"
      ]
    },
    {
      "cell_type": "code",
      "execution_count": null,
      "metadata": {
        "id": "--WmpSL0xdlk"
      },
      "outputs": [],
      "source": [
        "## Averaged Country averages by debtgdp (\"equal weights\")\n",
        "RR.dRGDP.groupby([RR.Country, RR.dgcat2]).mean().unstack()"
      ]
    },
    {
      "cell_type": "markdown",
      "metadata": {
        "id": "jdncXeXbxdlk"
      },
      "source": [
        "## Selective treatment of early years"
      ]
    },
    {
      "cell_type": "code",
      "execution_count": null,
      "metadata": {
        "id": "-maykPk-xdlk"
      },
      "outputs": [],
      "source": [
        "idx = (RR.Country == 'New Zealand') & (RR.Year < 1950) | (RR.Country == 'Australia') & (RR.Year < 1951) | (RR.Country == 'Canada') & (RR.Year < 1951)\n",
        "RR_selective = RR[idx == False]\n",
        "RR_selective.dRGDP.groupby(RR_selective.dgcat).mean()"
      ]
    },
    {
      "cell_type": "markdown",
      "metadata": {
        "id": "rwLEsOCQxdlk"
      },
      "source": [
        "## Equal weights\n",
        "## Table 3 Weights,Exclusion"
      ]
    },
    {
      "cell_type": "code",
      "execution_count": null,
      "metadata": {
        "id": "SSYvpcetxdlk"
      },
      "outputs": [],
      "source": [
        "RR_selective.select_dtypes(include=[np.number]).mean()"
      ]
    },
    {
      "cell_type": "markdown",
      "metadata": {
        "id": "Mw40RMv_xdlk"
      },
      "source": [
        "## Correct weights\n",
        "## Table 3 Selective years exclusion"
      ]
    },
    {
      "cell_type": "code",
      "execution_count": null,
      "metadata": {
        "id": "-ljujsYUxdll"
      },
      "outputs": [],
      "source": [
        "RR_selective.dRGDP.groupby([RR_selective.Country, RR_selective.dgcat]).mean().unstack()"
      ]
    },
    {
      "cell_type": "markdown",
      "metadata": {
        "id": "2vW38WdOxdll"
      },
      "source": [
        "## And dropping because of spreadsheet error"
      ]
    },
    {
      "cell_type": "code",
      "execution_count": null,
      "metadata": {
        "id": "VwrF1VG8xdll"
      },
      "outputs": [],
      "source": [
        "drop = [\"Australia\",\"Austria\",\"Belgium\",\"Canada\",\"Denmark\"]\n",
        "idx = [False if x in drop else True for x in RR_selective.Country]\n",
        "RR_selective_spreadsheet = RR_selective[idx]\n",
        "RR_selective_spreadsheet.dRGDP.groupby(RR.dgcat).mean()"
      ]
    },
    {
      "cell_type": "markdown",
      "metadata": {
        "id": "PUXfIEWmxdll"
      },
      "source": [
        "## New Zealand transcription error"
      ]
    },
    {
      "cell_type": "code",
      "execution_count": null,
      "metadata": {
        "id": "Dipp-gQlxdll"
      },
      "outputs": [],
      "source": [
        "a = RR_selective_spreadsheet.Country\n",
        "b = RR_selective_spreadsheet.dgcat\n",
        "RR_selective_spreadsheet.dRGDP.groupby(b).mean()"
      ]
    },
    {
      "cell_type": "markdown",
      "metadata": {
        "id": "vDPJRkX4xdlm"
      },
      "source": [
        "## Medians"
      ]
    },
    {
      "cell_type": "code",
      "execution_count": null,
      "metadata": {
        "id": "DyTrBcR4xdlm"
      },
      "outputs": [],
      "source": [
        "RR.dRGDP.groupby(RR.dgcat).median() # Correct, equal weight"
      ]
    },
    {
      "cell_type": "code",
      "execution_count": null,
      "metadata": {
        "id": "t0K8gfI2xdlm"
      },
      "outputs": [],
      "source": [
        "RR.dRGDP.groupby(RR.dgcat2).median() # Correct, expanded categories, equal weight"
      ]
    },
    {
      "cell_type": "markdown",
      "metadata": {
        "id": "N7-TP7jBxdlm"
      },
      "source": [
        "## Counts of years"
      ]
    },
    {
      "cell_type": "code",
      "execution_count": null,
      "metadata": {
        "id": "6nn48L16xdlm"
      },
      "outputs": [],
      "source": [
        "RR.Country.groupby([RR.Country, RR.dgcat]).size().unstack().sum()"
      ]
    },
    {
      "cell_type": "code",
      "execution_count": null,
      "metadata": {
        "id": "VqwNCX8Qxdlm"
      },
      "outputs": [],
      "source": [
        "RR_selective.Country.groupby([RR.Country, RR.dgcat]).size().unstack().sum()"
      ]
    },
    {
      "cell_type": "code",
      "execution_count": null,
      "metadata": {
        "id": "S9y9I5A9xdlm"
      },
      "outputs": [],
      "source": [
        "RR_selective_spreadsheet.Country.groupby([RR.Country, RR.dgcat]).size().unstack().sum()"
      ]
    },
    {
      "cell_type": "markdown",
      "metadata": {
        "id": "XgHgaHE1xdln"
      },
      "source": [
        "## Categorical scatterplot"
      ]
    },
    {
      "cell_type": "code",
      "execution_count": null,
      "metadata": {
        "id": "_GgZczQsxdln"
      },
      "outputs": [],
      "source": [
        "labels = [\"0-30%\",\"30-60%\",\"60-90%\",\"Above 90%\"]\n",
        "dat = [np.array(RR.dRGDP[RR.dgcat==x]) for x in labels]\n",
        "print(sm.graphics.violinplot(dat, labels=labels))"
      ]
    },
    {
      "cell_type": "code",
      "execution_count": null,
      "metadata": {
        "id": "vxd42zK3xdln"
      },
      "outputs": [],
      "source": [
        "labels = [\"0-30%\",\"30-60%\",\"60-90%\",\"90-120%\",\"Above 120%\"]\n",
        "dat = [np.array(RR.dRGDP[RR.dgcat2==x]) for x in labels]\n",
        "print(sm.graphics.violinplot(dat, labels=labels))"
      ]
    },
    {
      "cell_type": "markdown",
      "metadata": {
        "id": "NhUFUsUVxdln"
      },
      "source": [
        "## Country-Year average by debtgdp for more recent samples\n"
      ]
    },
    {
      "cell_type": "code",
      "execution_count": null,
      "metadata": {
        "id": "m1GQzolpxdln"
      },
      "outputs": [],
      "source": [
        "years = range(1950, 2001, 10)\n",
        "f = lambda x: (x, RR[RR.Year >= x].dRGDP.groupby(RR[RR.Year >= x].dgcat).mean())\n",
        "[f(x) for x in years]"
      ]
    },
    {
      "cell_type": "markdown",
      "metadata": {
        "id": "R5KsAMVOxdln"
      },
      "source": [
        "# Lagged dependent variable"
      ]
    },
    {
      "cell_type": "code",
      "execution_count": null,
      "metadata": {
        "id": "xBqZ9kVmxdlo"
      },
      "outputs": [],
      "source": [
        "def new_func():\n",
        "    y, X = patsy.dmatrices('dRGDP ~ dgcat + dRGDP_lag', data=RR[['dRGDP', 'dgcat', 'dRGDP_lag']].dropna())\n",
        "    print(sm.OLS(y, X).fit().summary())\n",
        "\n",
        "new_func()\n"
      ]
    },
    {
      "cell_type": "markdown",
      "metadata": {
        "id": "rcWCclDFxdlo"
      },
      "source": [
        "# Fixed effects"
      ]
    },
    {
      "cell_type": "code",
      "execution_count": null,
      "metadata": {
        "id": "_mvhaLxZxdlo"
      },
      "outputs": [],
      "source": [
        "# Ensure lagged variable exists\n",
        "if 'dRGDP_lag' not in RR.columns:\n",
        "    # Create lagged variable using transform instead of apply to maintain proper indexing\n",
        "    RR = RR.sort_values(['Country', 'Year'])  # Ensure proper sorting\n",
        "    RR['dRGDP_lag'] = RR.groupby('Country')['dRGDP'].shift(1)\n",
        "\n",
        "y,X = patsy.dmatrices('dRGDP ~ dgcat + dRGDP_lag + Country', data=RR[['dRGDP', 'dgcat', 'dRGDP_lag', 'Country']].dropna())\n",
        "print(sm.OLS(y,X).fit().summary())"
      ]
    },
    {
      "cell_type": "code",
      "execution_count": null,
      "metadata": {
        "id": "fmOLoGMcxdlp"
      },
      "outputs": [],
      "source": []
    }
  ],
  "metadata": {
    "colab": {
      "provenance": []
    },
    "kernelspec": {
      "display_name": "base",
      "language": "python",
      "name": "python3"
    },
    "language_info": {
      "codemirror_mode": {
        "name": "ipython",
        "version": 3
      },
      "file_extension": ".py",
      "mimetype": "text/x-python",
      "name": "python",
      "nbconvert_exporter": "python",
      "pygments_lexer": "ipython3",
      "version": "3.13.5"
    }
  },
  "nbformat": 4,
  "nbformat_minor": 0
}
