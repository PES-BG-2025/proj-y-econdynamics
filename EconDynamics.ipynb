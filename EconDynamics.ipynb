{
 "cells": [
  {
   "cell_type": "markdown",
   "id": "de18befa",
   "metadata": {},
   "source": [
    "\n",
    "# =======================================================\n",
    "# El Modelo Mundell-Fleming para una Economía Abierta 📈\n",
    "# =======================================================\n",
    "\n",
    "Este cuaderno explica el modelo Mundell-Fleming, una extensión del famoso modelo IS-LM. Su propósito es describir el funcionamiento de una **pequeña economía abierta** en el corto plazo, donde el nivel de precios se asume como fijo.\n",
    "\n",
    "Los supuestos clave son:\n",
    "* **Pequeña Economía Abierta:** El país no puede influir en la tasa de interés mundial.\n",
    "* **Perfecta Movilidad de Capitales:** No existen barreras para la entrada o salida de capitales. Esto fuerza a que la tasa de interés local ($r$) sea igual a la tasa de interés mundial ($r^*$).\n",
    "* **Precios Fijos:** Se analiza el corto plazo, por lo que la inflación no es una variable de ajuste."
   ]
  },
  {
   "cell_type": "markdown",
   "id": "f2277133",
   "metadata": {},
   "source": [
    "\n",
    "# =======================================\n",
    "##  1. Mercado de Bienes (La Curva IS*)\n",
    "# =======================================\n",
    "\n",
    "La curva **IS*** muestra las combinaciones de tipo de cambio ($e$) y renta ($Y$) que mantienen en equilibrio el mercado de bienes. Su ecuación es:\n",
    "$$ Y = C(Y-T) + I(r^*) + G + NX(e) $$\n",
    "Tiene **pendiente negativa**: si el tipo de cambio ($e$) sube (apreciación), las exportaciones netas ($NX$) caen, lo que reduce la renta de equilibrio ($Y$).\n"
   ]
  },
  {
   "cell_type": "code",
   "execution_count": 2,
   "id": "359cd2f2",
   "metadata": {},
   "outputs": [
    {
     "data": {
      "application/vnd.jupyter.widget-view+json": {
       "model_id": "587613c4321f4c8b94154ca2d4c00665",
       "version_major": 2,
       "version_minor": 0
      },
      "text/plain": [
       "HBox(children=(VBox(children=(VBox(children=(Label(value='Gasto Público (g0):'), FloatSlider(value=200.0, layo…"
      ]
     },
     "execution_count": 2,
     "metadata": {},
     "output_type": "execute_result"
    }
   ],
   "source": [
    "# Importa la función desde el archivo que está en la carpeta \"Graficas\"\n",
    "from GraphsCode import crear_grafica_mercado_bienes\n",
    "\n",
    "# Llama a la función para crear y mostrar la gráfica interactiva\n",
    "crear_grafica_mercado_bienes()"
   ]
  }
 ],
 "metadata": {
  "kernelspec": {
   "display_name": "base",
   "language": "python",
   "name": "python3"
  },
  "language_info": {
   "codemirror_mode": {
    "name": "ipython",
    "version": 3
   },
   "file_extension": ".py",
   "mimetype": "text/x-python",
   "name": "python",
   "nbconvert_exporter": "python",
   "pygments_lexer": "ipython3",
   "version": "3.13.5"
  }
 },
 "nbformat": 4,
 "nbformat_minor": 5
}
